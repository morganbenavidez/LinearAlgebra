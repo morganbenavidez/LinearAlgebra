{
  "nbformat": 4,
  "nbformat_minor": 0,
  "metadata": {
    "colab": {
      "name": "UnitOfMemoryConversion.ipynb",
      "provenance": [],
      "collapsed_sections": []
    },
    "kernelspec": {
      "name": "python3",
      "display_name": "Python 3"
    },
    "language_info": {
      "name": "python"
    }
  },
  "cells": [
    {
      "cell_type": "markdown",
      "source": [
        "Unit of Memory Conversion\n",
        "<br>\n",
        "<br>"
      ],
      "metadata": {
        "id": "MStJ-l0J0p7j"
      }
    },
    {
      "cell_type": "code",
      "source": [
        "class ByteConverter():\n",
        "\n",
        "  def __init__(self, number, startEnding, convertToEnding):\n",
        "\n",
        "    self.number = number\n",
        "    self.startEnding = startEnding\n",
        "    self.convertToEnding = convertToEnding\n",
        "    self.convert()\n",
        "\n",
        "  def convert(self):\n",
        "\n",
        "    bit = 1\n",
        "    byte = 8 * bit\n",
        "    kb = 1024 * byte\n",
        "    mb = 1024 * kb\n",
        "    gb = 1024 * mb\n",
        "    tb = 1024 * gb\n",
        "    pb = 1024 * tb\n",
        "    eb = 1024 * pb  # Exabyte\n",
        "    zb = 1024 * eb  # Zettabyte\n",
        "    yb = 1024 * zb  # Yottabyte\n",
        "\n",
        "    # Everything in this dictionary is in terms of bits\n",
        "    conversionDictionary = dict({'bits': bit, 'bytes': byte, 'kb': kb, 'mb': mb, 'gb': gb, 'tb': tb, 'pb': pb, 'eb': eb, 'zb': zb, 'yb': yb})\n",
        "    \n",
        "    try: \n",
        "  \n",
        "      startEndingValue = conversionDictionary[self.startEnding]\n",
        "\n",
        "      convertToEndingValue = conversionDictionary[self.convertToEnding]\n",
        "\n",
        "      fullyConverted = (startEndingValue / convertToEndingValue) * self.number\n",
        "\n",
        "      return fullyConverted, self.convertToEnding\n",
        "\n",
        "    except KeyError as err:\n",
        "\n",
        "      print('Acceptable Units of Memory = bits, bytes, kb (kilobyte), gb (gigabyte), tb (terabyte), pb (petabyte), eb (exabyte), zb (zettabyte), yb (yottabyte)' + '\\n' + 'Function accepts 3 parameters -> convert(int, string1, string2)' + '\\n' \n",
        "            + 'First Parameter(int) = number of items trying to convert' + '\\n' + 'Second Parameter(string1) = Starting Unit of Memory' + '\\n' + 'Third Parameter(string2 = Unit of Memory you want to convert to') \n",
        "      raise"
      ],
      "metadata": {
        "id": "KNoEYNC50lXJ"
      },
      "execution_count": null,
      "outputs": []
    },
    {
      "cell_type": "code",
      "source": [
        "#x = ByteConverter()\n",
        "\n",
        "avgw = 5\n",
        "avgb = 5*8\n",
        "totalwords = 1000000000\n",
        "totalbytes = avgb*totalwords\n",
        "print(totalbytes)\n",
        "\n",
        "x = ByteConverter(totalbytes, 'bytes', 'gb')\n",
        "print(x.convert())"
      ],
      "metadata": {
        "colab": {
          "base_uri": "https://localhost:8080/"
        },
        "id": "jHtC5kHQnTxX",
        "outputId": "58eb2203-cd85-4f9b-fd7b-129b189ab872"
      },
      "execution_count": null,
      "outputs": [
        {
          "output_type": "stream",
          "name": "stdout",
          "text": [
            "40000000000\n",
            "(37.25290298461914, 'gb')\n"
          ]
        }
      ]
    },
    {
      "cell_type": "code",
      "source": [
        "x = ByteConverter(8, 'bits', 'bytes')\n",
        "print(x)\n",
        "print(x.convert())"
      ],
      "metadata": {
        "colab": {
          "base_uri": "https://localhost:8080/"
        },
        "id": "IC1y516pMNW-",
        "outputId": "877c7ff1-f781-462d-82f8-af5f2ff68d66"
      },
      "execution_count": null,
      "outputs": [
        {
          "output_type": "stream",
          "name": "stdout",
          "text": [
            "<__main__.ByteConverter object at 0x7f144cd19650>\n",
            "(1.0, 'bytes')\n"
          ]
        }
      ]
    },
    {
      "cell_type": "code",
      "source": [
        "x = ByteConverter(999999, 'mb', 'gb')\n",
        "print(x.convert())\n",
        "\n",
        "y = ByteConverter(976.561523, 'gb', 'tb')\n",
        "print(y.convert())"
      ],
      "metadata": {
        "colab": {
          "base_uri": "https://localhost:8080/"
        },
        "id": "bYycpwJVLfzI",
        "outputId": "23a61e4c-80f4-4c82-98a4-be9266a91d0d"
      },
      "execution_count": null,
      "outputs": [
        {
          "output_type": "stream",
          "name": "stdout",
          "text": [
            "(976.5615234375, 'gb')\n",
            "(0.9536733623046875, 'tb')\n"
          ]
        }
      ]
    },
    {
      "cell_type": "markdown",
      "source": [
        ""
      ],
      "metadata": {
        "id": "YlZRI78xNDQC"
      }
    },
    {
      "cell_type": "code",
      "source": [
        "x = ByteConverter(5000000000, 'bits', 'mb')\n",
        "print(x.convert())"
      ],
      "metadata": {
        "colab": {
          "base_uri": "https://localhost:8080/"
        },
        "id": "rqbr2f4i3hlf",
        "outputId": "3f95e6cd-c9bf-4a2e-9ff5-0eb07c80332a"
      },
      "execution_count": null,
      "outputs": [
        {
          "output_type": "stream",
          "name": "stdout",
          "text": [
            "(596.0464477539062, 'mb')\n"
          ]
        }
      ]
    },
    {
      "cell_type": "code",
      "source": [
        "x = ByteConverter(5000, 'mb', 'bits')\n",
        "print(x.convert())"
      ],
      "metadata": {
        "colab": {
          "base_uri": "https://localhost:8080/"
        },
        "id": "X3v1KG0khbqk",
        "outputId": "472642bf-94cf-43ac-c450-8641a6cc66e9"
      },
      "execution_count": null,
      "outputs": [
        {
          "output_type": "stream",
          "name": "stdout",
          "text": [
            "(41943040000.0, 'bits')\n"
          ]
        }
      ]
    },
    {
      "cell_type": "code",
      "source": [
        "x = ByteConverter(2.5, 'pb', 'tb')\n",
        "print(x.convert())"
      ],
      "metadata": {
        "colab": {
          "base_uri": "https://localhost:8080/"
        },
        "id": "9qk0CxHIM6Uo",
        "outputId": "47b6a4df-f3f8-4c10-b631-5dec37824b56"
      },
      "execution_count": null,
      "outputs": [
        {
          "output_type": "stream",
          "name": "stdout",
          "text": [
            "(2560.0, 'tb')\n"
          ]
        }
      ]
    },
    {
      "cell_type": "code",
      "source": [
        "# Conversion for bits to whatever\n",
        "bit = 1\n",
        "byte = 8 * bit\n",
        "kb = 1024 * byte\n",
        "mb = 1024 * kb\n",
        "gb = 1024 * mb\n",
        "tb = 1024 * gb\n",
        "pb = 1024 * tb\n",
        "eb = 1024 * pb\n",
        "zb = 1024 * eb  # Zettabyte\n",
        "yb = 1024 * zb  # Yottabyte\n",
        "\n",
        "print('Numbers Are In Bits')\n",
        "print(bit)\n",
        "print(byte)\n",
        "print(kb)\n",
        "print(mb)\n",
        "print(gb)\n",
        "print(tb)\n",
        "print(pb)\n",
        "print(eb)\n",
        "print(zb)\n",
        "print(yb)\n",
        "\n",
        "print('\\n')\n",
        "\n",
        "byte = 1\n",
        "kb = 1024\n",
        "mb = 1024**2\n",
        "gb = 1024**3\n",
        "tb = 1024**4\n",
        "pb = 1024**5\n",
        "eb = 1024**6\n",
        "\n",
        "print('Numbers Are In Bytes')\n",
        "print(byte)\n",
        "print(kb)\n",
        "print(mb)\n",
        "print(gb)\n",
        "print(tb)\n",
        "print(pb)\n",
        "print(eb)\n"
      ],
      "metadata": {
        "colab": {
          "base_uri": "https://localhost:8080/"
        },
        "id": "j9BlhFqo3hsO",
        "outputId": "881d3a10-1855-43fb-d1e5-1764444ce9e9"
      },
      "execution_count": null,
      "outputs": [
        {
          "output_type": "stream",
          "name": "stdout",
          "text": [
            "Numbers Are In Bits\n",
            "1\n",
            "8\n",
            "8192\n",
            "8388608\n",
            "8589934592\n",
            "8796093022208\n",
            "9007199254740992\n",
            "9223372036854775808\n",
            "9444732965739290427392\n",
            "9671406556917033397649408\n",
            "\n",
            "\n",
            "Numbers Are In Bytes\n",
            "1\n",
            "1024\n",
            "1048576\n",
            "1073741824\n",
            "1099511627776\n",
            "1125899906842624\n",
            "1152921504606846976\n"
          ]
        }
      ]
    },
    {
      "cell_type": "code",
      "source": [
        "x = 5\n",
        "print(x)"
      ],
      "metadata": {
        "id": "43SbwVezUzJh",
        "colab": {
          "base_uri": "https://localhost:8080/"
        },
        "outputId": "3a8261d5-cfba-45dd-e1dc-23e7c8b46b29"
      },
      "execution_count": null,
      "outputs": [
        {
          "output_type": "stream",
          "name": "stdout",
          "text": [
            "5\n"
          ]
        }
      ]
    },
    {
      "cell_type": "code",
      "source": [
        "y = x + 7\n",
        "\n",
        "print(y)"
      ],
      "metadata": {
        "colab": {
          "base_uri": "https://localhost:8080/"
        },
        "id": "neOBGjkURPF-",
        "outputId": "88db344c-377c-40ba-9623-232c5db7772a"
      },
      "execution_count": null,
      "outputs": [
        {
          "output_type": "stream",
          "name": "stdout",
          "text": [
            "12\n"
          ]
        }
      ]
    },
    {
      "cell_type": "code",
      "source": [
        ""
      ],
      "metadata": {
        "id": "DaHM4tK3RPJC"
      },
      "execution_count": null,
      "outputs": []
    },
    {
      "cell_type": "code",
      "source": [
        ""
      ],
      "metadata": {
        "id": "A_zq_ccyRPLd"
      },
      "execution_count": null,
      "outputs": []
    },
    {
      "cell_type": "code",
      "source": [
        ""
      ],
      "metadata": {
        "id": "gV3zPa35RPPG"
      },
      "execution_count": null,
      "outputs": []
    },
    {
      "cell_type": "code",
      "source": [
        ""
      ],
      "metadata": {
        "id": "91U9lUpiRPU_"
      },
      "execution_count": null,
      "outputs": []
    },
    {
      "cell_type": "code",
      "source": [
        ""
      ],
      "metadata": {
        "id": "YZzpeKNkRPXo"
      },
      "execution_count": null,
      "outputs": []
    },
    {
      "cell_type": "code",
      "source": [
        "AverageWordLength = 5\n",
        "AvgByteLength = 5 *"
      ],
      "metadata": {
        "id": "RselQN0WnDWr",
        "colab": {
          "base_uri": "https://localhost:8080/",
          "height": 133
        },
        "outputId": "b890c09a-cbf3-4662-fe10-6cc8751d3f2c"
      },
      "execution_count": null,
      "outputs": [
        {
          "output_type": "error",
          "ename": "SyntaxError",
          "evalue": "ignored",
          "traceback": [
            "\u001b[0;36m  File \u001b[0;32m\"<ipython-input-10-3a73961e286c>\"\u001b[0;36m, line \u001b[0;32m2\u001b[0m\n\u001b[0;31m    AvgByteLength = 5 *\u001b[0m\n\u001b[0m                       ^\u001b[0m\n\u001b[0;31mSyntaxError\u001b[0m\u001b[0;31m:\u001b[0m invalid syntax\n"
          ]
        }
      ]
    }
  ]
}