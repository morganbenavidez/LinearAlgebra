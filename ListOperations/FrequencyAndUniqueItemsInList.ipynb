{
  "nbformat": 4,
  "nbformat_minor": 0,
  "metadata": {
    "colab": {
      "name": "FrequencyAndUniqueItemsInList.ipynb",
      "provenance": [],
      "collapsed_sections": []
    },
    "kernelspec": {
      "name": "python3",
      "display_name": "Python 3"
    },
    "language_info": {
      "name": "python"
    }
  },
  "cells": [
    {
      "cell_type": "code",
      "execution_count": null,
      "metadata": {
        "id": "31rhN28jUl06"
      },
      "outputs": [],
      "source": [
        "class GetFrequencyOfItemsInAList():\n",
        "\n",
        "  def __init__(self, listOfItems):\n",
        "\n",
        "    self.listOfItems = listOfItems\n",
        "    self.countEach()\n",
        "\n",
        "  def countEach(self):\n",
        "\n",
        "    self.uniqueItems = []\n",
        "    self.uniqueItemsCount = []\n",
        "\n",
        "    for item in self.listOfItems:\n",
        "      if item in self.uniqueItems:\n",
        "       self.uniqueItemsCount[self.uniqueItems.index(item)] += 1\n",
        "      else:\n",
        "       self.uniqueItems.append(item)\n",
        "       self.uniqueItemsCount.append(1)\n",
        "    \n",
        "    self.returnUniqueItems()\n",
        "    self.returnUniqueItemsCount()\n",
        "  \n",
        "  def returnUniqueItems(self):\n",
        "\n",
        "    return self.uniqueItems\n",
        "\n",
        "  def returnUniqueItemsCount(self):\n",
        "\n",
        "    return self.uniqueItemsCount"
      ]
    }
  ]
}